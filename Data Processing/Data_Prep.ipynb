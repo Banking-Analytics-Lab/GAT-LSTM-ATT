{
 "cells": [
  {
   "cell_type": "code",
   "execution_count": null,
   "metadata": {},
   "outputs": [],
   "source": [
    "import pandas as pd\n",
    "import numpy as np\n",
    "import warnings\n",
    "from datetime import datetime\n",
    "from dateutil.relativedelta import relativedelta\n",
    "warnings.filterwarnings(\"ignore\")"
   ]
  },
  {
   "cell_type": "code",
   "execution_count": null,
   "metadata": {},
   "outputs": [],
   "source": [
    "year    = '10'\n",
    "quarter = '4'"
   ]
  },
  {
   "cell_type": "code",
   "execution_count": null,
   "metadata": {},
   "outputs": [],
   "source": [
    "file_name_origdata_csv = 'origdata 20' + year + '-Q' + quarter + '.csv'\n",
    "file_name_MP_csv       = 'svcgdata 20' + year + '-Q' + quarter + '.csv'\n",
    "Orig = pd.read_csv(file_name_origdata_csv)\n",
    "MP   = pd.read_csv(file_name_MP_csv)"
   ]
  },
  {
   "cell_type": "code",
   "execution_count": null,
   "metadata": {},
   "outputs": [],
   "source": [
    "MP0 = pd.DataFrame(MP)\n",
    "MP0.drop_duplicates(subset = \"id_loan\", keep = 'first', inplace = True)\n",
    "MP0.reset_index(drop = True, inplace = True)\n",
    "MP0['svcg_cycle'] = MP0['svcg_cycle'].astype(str)\n",
    "MP0['svcg_cycle'] = MP0['svcg_cycle'].apply(lambda x: x + '01')\n",
    "MP0['dt_orig_0']  = (MP0['svcg_cycle'].apply(lambda x: datetime(year = int(x[0:4]),\n",
    "                                                                month = int(x[4:6]), day = int(x[6:8]))))\n",
    "\n",
    "def f(x, y):\n",
    "    return (x - relativedelta(months = y + 1)).strftime(\"%Y%m\");\n",
    "\n",
    "MP0['dt_orig'] = MP0.apply(lambda x: f(x['dt_orig_0'], x['loan_age']), axis = 1)\n",
    "MP0['dt_orig'] = MP0['dt_orig'].astype(int)\n",
    "drop_list = [column for column in MP0.columns if column not in ['id_loan', 'dt_orig']]\n",
    "MP0.drop(drop_list, axis = 1, inplace = True)"
   ]
  },
  {
   "cell_type": "code",
   "execution_count": null,
   "metadata": {},
   "outputs": [],
   "source": [
    "MP.drop(MP[MP['cd_zero_bal'] == 15].index, inplace = True)\n",
    "MP.drop(MP[MP['delq_sts'] == 'XX'].index, inplace = True)\n",
    "MP['delq_sts'] = MP['delq_sts'].where(MP['delq_sts'] != 'R', '-1')\n",
    "MP['delq_sts'] = MP['delq_sts'].astype(int)\n",
    "defaults = (MP.loc[(MP['delq_sts'] == -1)   | (MP['delq_sts'] >= 3) | (MP['cd_zero_bal'] == 3) |\n",
    "                   (MP['cd_zero_bal'] == 6) | (MP['cd_zero_bal'] == 9)])\n",
    "MP['delq_sts'] = MP['delq_sts'].astype(str)\n",
    "defaults['delq_sts'] = defaults['delq_sts'].astype(str)\n",
    "MP['delq_sts'] = MP['delq_sts'].where(MP['delq_sts'] != '-1', 'R')\n",
    "defaults['delq_sts'] = defaults['delq_sts'].where(defaults['delq_sts'] != '-1', 'R')\n",
    "defaults.drop_duplicates(subset = \"id_loan\", keep = 'first', inplace = True)\n",
    "defaults.reset_index(drop = True, inplace = True)\n",
    "defaults['Default'] = 'YES'\n",
    "drop_list = [column for column in defaults.columns if column not in ['id_loan', 'svcg_cycle', 'Default']]\n",
    "defaults.drop(drop_list, axis = 1, inplace = True)"
   ]
  },
  {
   "cell_type": "code",
   "execution_count": null,
   "metadata": {},
   "outputs": [],
   "source": [
    "Orig1 = pd.DataFrame(Orig)\n",
    "Orig1 = Orig1[Orig1['id_loan'].isin(list(MP0['id_loan']))]\n",
    "Orig1.reset_index(drop = True, inplace = True)\n",
    "Orig2 = pd.merge(Orig1, MP0, on = 'id_loan', how = 'outer')\n",
    "mergedDf = pd.merge(Orig2, defaults, on = 'id_loan', how = 'outer')\n",
    "mergedDf['svcg_cycle'] = mergedDf['svcg_cycle'].where(mergedDf['svcg_cycle'].isnull() == False, 'N_A')\n",
    "mergedDf['svcg_cycle'] = mergedDf['svcg_cycle'].astype(str)\n",
    "mergedDf['Default'] = mergedDf['Default'].where(mergedDf['Default'].isnull() == False, 'NO')\n",
    "mergedDf.drop(['Unnamed: 0'], axis=1, inplace = True)\n",
    "cols = mergedDf.columns\n",
    "cols = cols.drop('id_loan')\n",
    "cols = ['id_loan'] + list(cols)\n",
    "mergedDf = mergedDf[cols]"
   ]
  },
  {
   "cell_type": "code",
   "execution_count": null,
   "metadata": {},
   "outputs": [],
   "source": [
    "Data = mergedDf.copy()\n",
    "Data['fico'].loc[Data['fico'] == 9999] = np.nan\n",
    "Data['flag_fthb'].loc[Data['flag_fthb'] == '9'] = np.nan\n",
    "Data['mi_pct'].loc[Data['mi_pct'] == 999] = np.nan\n",
    "Data['cnt_units'].loc[Data['cnt_units'] == 99] = np.nan\n",
    "Data['occpy_sts'].loc[Data['occpy_sts'] == '9'] = np.nan\n",
    "Data['cltv'].loc[Data['cltv'] == 999] = np.nan\n",
    "Data['dti'].loc[Data['dti'] == 999] = np.nan\n",
    "Data['ltv'].loc[Data['ltv'] == 999] = np.nan\n",
    "Data['channel'].loc[Data['channel'] == '9'] = np.nan\n",
    "Data['prop_type'].loc[Data['prop_type'] == '99'] = np.nan\n",
    "Data['loan_purpose'].loc[Data['loan_purpose'] == '9'] = np.nan\n",
    "Data['cnt_borr'].loc[Data['cnt_borr'] == 99] = np.nan\n",
    "Data['flag_sc'].fillna('N', inplace = True)\n",
    "Data['flag_fthb'].fillna('Other', inplace = True)"
   ]
  },
  {
   "cell_type": "code",
   "execution_count": null,
   "metadata": {},
   "outputs": [],
   "source": [
    "n = len(Data.index)\n",
    "for column in Data:\n",
    "    null = Data[column].isnull().sum()\n",
    "\n",
    "    if (null / n) > 0.8:\n",
    "        Data = Data.drop(column, axis = 1)\n",
    "\n",
    "    if Data[column].dtype == 'object':\n",
    "        Data[column].fillna(Data[column].mode()[0], inplace = True)\n",
    "    else:\n",
    "        Data[column].fillna(Data[column].median(), inplace = True)"
   ]
  },
  {
   "cell_type": "code",
   "execution_count": null,
   "metadata": {},
   "outputs": [],
   "source": [
    "Data['year'] = Data['dt_orig'].astype(str).apply(lambda x: x[0:4]).astype(int)\n",
    "Data['month'] = Data['dt_orig'].astype(str).apply(lambda x: x[4:6]).astype(int)\n",
    "Data.reset_index(drop = True, inplace = True)\n",
    "Data.drop(['dt_orig'], axis = 1, inplace = True)"
   ]
  },
  {
   "cell_type": "code",
   "execution_count": null,
   "metadata": {},
   "outputs": [],
   "source": [
    "MP = MP[MP['id_loan'].isin(list(Data['id_loan']))]\n",
    "MP.reset_index(drop = True, inplace = True)\n",
    "drop_list = [column for column in MP.columns if column not in ['id_loan', 'svcg_cycle', 'current_upb',\n",
    "                                                               'delq_sts', 'loan_age', 'mths_remng', 'current_int_rt']]\n",
    "MP.drop(drop_list, axis = 1, inplace = True)"
   ]
  },
  {
   "cell_type": "code",
   "execution_count": null,
   "metadata": {},
   "outputs": [],
   "source": [
    "l1 = list(set(MP[MP['loan_age'] == 0]['id_loan'].unique()).intersection(set(MP[MP['loan_age'] == 60]['id_loan'].unique())))\n",
    "Data = Data[Data['id_loan'].isin(l1)]\n",
    "Data.reset_index(drop = True, inplace = True)\n",
    "MP = MP[MP['id_loan'].isin(l1)]\n",
    "MP.reset_index(drop = True, inplace = True)"
   ]
  },
  {
   "cell_type": "code",
   "execution_count": null,
   "metadata": {},
   "outputs": [],
   "source": [
    "Data.to_csv('df_orig_' + year + '_' + quarter + '.csv', index = False)\n",
    "MP.to_csv('df_mp_' + year + '_' + quarter + '.csv', index = False)"
   ]
  }
 ],
 "metadata": {
  "kernelspec": {
   "display_name": "Python 3",
   "language": "python",
   "name": "python3"
  },
  "language_info": {
   "codemirror_mode": {
    "name": "ipython",
    "version": 3
   },
   "file_extension": ".py",
   "mimetype": "text/x-python",
   "name": "python",
   "nbconvert_exporter": "python",
   "pygments_lexer": "ipython3",
   "version": "3.7.6"
  }
 },
 "nbformat": 4,
 "nbformat_minor": 4
}
