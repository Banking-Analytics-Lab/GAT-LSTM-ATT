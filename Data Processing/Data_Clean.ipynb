{
 "cells": [
  {
   "cell_type": "code",
   "execution_count": null,
   "metadata": {},
   "outputs": [],
   "source": [
    "import pandas as pd\n",
    "import numpy as np\n",
    "import warnings\n",
    "from datetime import datetime\n",
    "from dateutil import relativedelta\n",
    "from sklearn.preprocessing import MinMaxScaler\n",
    "warnings.filterwarnings(\"ignore\")"
   ]
  },
  {
   "cell_type": "code",
   "execution_count": null,
   "metadata": {},
   "outputs": [],
   "source": [
    "sc      = MinMaxScaler()\n",
    "df_09_1 = pd.read_csv('df_orig_09_1.csv')\n",
    "df_09_2 = pd.read_csv('df_orig_09_2.csv')\n",
    "df_09_3 = pd.read_csv('df_orig_09_3.csv')\n",
    "df_09_4 = pd.read_csv('df_orig_09_4.csv')\n",
    "df_10_1 = pd.read_csv('df_orig_10_1.csv')\n",
    "df_10_2 = pd.read_csv('df_orig_10_2.csv')\n",
    "df_10_3 = pd.read_csv('df_orig_10_3.csv')\n",
    "df_10_4 = pd.read_csv('df_orig_10_4.csv')\n",
    "df      = pd.concat([df_09_1, df_09_2, df_09_3, df_09_4, df_10_1, df_10_2, df_10_3, df_10_4])\n",
    "df.reset_index(drop = True, inplace = True)"
   ]
  },
  {
   "cell_type": "code",
   "execution_count": null,
   "metadata": {},
   "outputs": [],
   "source": [
    "df.drop(['dt_first_pi', 'dt_matr', 'cd_msa', 'cltv', 'st',\n",
    "         'servicer_name', 'prod_type', 'ppmt_pnlty'], axis = 1, inplace = True)"
   ]
  },
  {
   "cell_type": "code",
   "execution_count": null,
   "metadata": {},
   "outputs": [],
   "source": [
    "df.drop(df[df['flag_fthb'] == 'Other'].index, inplace = True)\n",
    "df.drop(df[df['seller_name'] == 'Other sellers'].index, inplace = True)\n",
    "df.reset_index(drop = True, inplace = True)"
   ]
  },
  {
   "cell_type": "code",
   "execution_count": null,
   "metadata": {},
   "outputs": [],
   "source": [
    "df['id'] = np.arange(1, len(df) + 1)"
   ]
  },
  {
   "cell_type": "code",
   "execution_count": null,
   "metadata": {},
   "outputs": [],
   "source": [
    "df['fico'] = df['fico'].astype(int)"
   ]
  },
  {
   "cell_type": "code",
   "execution_count": null,
   "metadata": {},
   "outputs": [],
   "source": [
    "df['flag_fthb'] = df['flag_fthb'].where(df['flag_fthb'] != 'Y', '1')\n",
    "df['flag_fthb'] = df['flag_fthb'].where(df['flag_fthb'] != 'N', '0')\n",
    "df['flag_fthb'] = df['flag_fthb'].astype(int)\n",
    "df.rename(columns = {'flag_fthb':'if_fthb'}, inplace = True)"
   ]
  },
  {
   "cell_type": "code",
   "execution_count": null,
   "metadata": {},
   "outputs": [],
   "source": [
    "df['mi_pct'] = df['mi_pct'].astype(int)"
   ]
  },
  {
   "cell_type": "code",
   "execution_count": null,
   "metadata": {},
   "outputs": [],
   "source": [
    "df['cnt_units'] = df['cnt_units'].astype(int)"
   ]
  },
  {
   "cell_type": "code",
   "execution_count": null,
   "metadata": {},
   "outputs": [],
   "source": [
    "df['occpy_sts'] = df['occpy_sts'].where(df['occpy_sts'] != 'P', '1')\n",
    "df['occpy_sts'] = df['occpy_sts'].where(df['occpy_sts'] != 'S', '0')\n",
    "df['occpy_sts'] = df['occpy_sts'].where(df['occpy_sts'] != 'I', '0')\n",
    "df['occpy_sts'] = df['occpy_sts'].astype(int)\n",
    "df.rename(columns = {'occpy_sts':'if_prim_res'}, inplace = True)"
   ]
  },
  {
   "cell_type": "code",
   "execution_count": null,
   "metadata": {},
   "outputs": [],
   "source": [
    "df['dti'] = df['dti'].astype(int)"
   ]
  },
  {
   "cell_type": "code",
   "execution_count": null,
   "metadata": {},
   "outputs": [],
   "source": [
    "df.rename(columns = {'orig_upb':'upb'}, inplace = True)"
   ]
  },
  {
   "cell_type": "code",
   "execution_count": null,
   "metadata": {},
   "outputs": [],
   "source": [
    "df['ltv'] = df['ltv'].astype(int)"
   ]
  },
  {
   "cell_type": "code",
   "execution_count": null,
   "metadata": {},
   "outputs": [],
   "source": [
    "df['channel'] = df['channel'].where(df['channel'] != 'C', '1')\n",
    "df['channel'] = df['channel'].where(df['channel'] != 'R', '0')\n",
    "df['channel'] = df['channel'].where(df['channel'] != 'B', '0')\n",
    "df['channel'] = df['channel'].where(df['channel'] != 'T', '0')\n",
    "df['channel'] = df['channel'].astype(int)\n",
    "df.rename(columns = {'channel':'if_corr'}, inplace = True)"
   ]
  },
  {
   "cell_type": "code",
   "execution_count": null,
   "metadata": {},
   "outputs": [],
   "source": [
    "df['prop_type'] = df['prop_type'].where(df['prop_type'] != 'SF', '1')\n",
    "df['prop_type'] = df['prop_type'].where(df['prop_type'] != 'CO', '0')\n",
    "df['prop_type'] = df['prop_type'].where(df['prop_type'] != 'PU', '0')\n",
    "df['prop_type'] = df['prop_type'].where(df['prop_type'] != 'MH', '0')\n",
    "df['prop_type'] = df['prop_type'].where(df['prop_type'] != 'CP', '0')\n",
    "df['prop_type'] = df['prop_type'].astype(int)\n",
    "df.rename(columns = {'prop_type':'if_sf'}, inplace = True)"
   ]
  },
  {
   "cell_type": "code",
   "execution_count": null,
   "metadata": {},
   "outputs": [],
   "source": [
    "df['zipcode'] = df['zipcode'].astype(str)\n",
    "df['length'] = df.zipcode.str.len()\n",
    "df = df[df.length > 6]\n",
    "df['area'] = df['zipcode'].apply(lambda x: x[0:2]).astype(int)\n",
    "df.drop(['length', 'zipcode'], axis = 1, inplace = True)\n",
    "df.reset_index(drop = True, inplace = True)"
   ]
  },
  {
   "cell_type": "code",
   "execution_count": null,
   "metadata": {},
   "outputs": [],
   "source": [
    "df['loan_purpose'] = df['loan_purpose'].where(df['loan_purpose'] != 'P', '1')\n",
    "df['loan_purpose'] = df['loan_purpose'].where(df['loan_purpose'] != 'N', '0')\n",
    "df['loan_purpose'] = df['loan_purpose'].where(df['loan_purpose'] != 'C', '0')\n",
    "df['loan_purpose'] = df['loan_purpose'].astype(int)\n",
    "df.rename(columns = {'loan_purpose':'if_purc'}, inplace = True)"
   ]
  },
  {
   "cell_type": "code",
   "execution_count": null,
   "metadata": {},
   "outputs": [],
   "source": [
    "df.rename(columns = {'orig_loan_term':'loan_term'}, inplace = True)"
   ]
  },
  {
   "cell_type": "code",
   "execution_count": null,
   "metadata": {},
   "outputs": [],
   "source": [
    "df['cnt_borr'] = df['cnt_borr'].astype(int)"
   ]
  },
  {
   "cell_type": "code",
   "execution_count": null,
   "metadata": {},
   "outputs": [],
   "source": [
    "df.rename(columns = {'seller_name':'provider'}, inplace = True)"
   ]
  },
  {
   "cell_type": "code",
   "execution_count": null,
   "metadata": {},
   "outputs": [],
   "source": [
    "df['flag_sc'] = df['flag_sc'].where(df['flag_sc'] != 'Y', '1')\n",
    "df['flag_sc'] = df['flag_sc'].where(df['flag_sc'] != 'N', '0')\n",
    "df['flag_sc'] = df['flag_sc'].astype(int)\n",
    "df.rename(columns = {'flag_sc':'if_sc'}, inplace = True)"
   ]
  },
  {
   "cell_type": "code",
   "execution_count": null,
   "metadata": {},
   "outputs": [],
   "source": [
    "df['Default'] = df['Default'].where(df['Default'] != 'YES', '1')\n",
    "df['Default'] = df['Default'].where(df['Default'] != 'NO', '0')\n",
    "df['Default'] = df['Default'].astype(int)\n",
    "df.rename(columns = {'Default':'default'}, inplace = True)"
   ]
  },
  {
   "cell_type": "code",
   "execution_count": null,
   "metadata": {},
   "outputs": [],
   "source": [
    "df_d = df[df['svcg_cycle'] != 'N_A']\n",
    "df_d.reset_index(drop = True, inplace = True)\n",
    "df_d['svcg_cycle'] = df_d['svcg_cycle'].apply(lambda x: x[0:6])\n",
    "\n",
    "def f(x):\n",
    "    r = relativedelta.relativedelta(datetime.strptime(x, \"%Y%m\"), datetime.strptime('200902', \"%Y%m\"))\n",
    "    return r.months + (12 * r.years);\n",
    "\n",
    "df_d['d_timer'] = df_d.apply(lambda x: f(x['svcg_cycle']), axis = 1)\n",
    "drop_list = [column for column in df_d.columns if column not in ['id_loan', 'd_timer']]\n",
    "df_d.drop(drop_list, axis = 1, inplace = True)\n",
    "df = pd.merge(df, df_d, on = 'id_loan', how = 'outer')\n",
    "df['d_timer'] = df['d_timer'].where(df['d_timer'].isnull() == False, 1000)\n",
    "df = df[df['d_timer'] >= 35]\n",
    "df.reset_index(drop = True, inplace = True)"
   ]
  },
  {
   "cell_type": "code",
   "execution_count": null,
   "metadata": {},
   "outputs": [],
   "source": [
    "cols = df.columns\n",
    "cols = cols.drop(['id', 'id_loan', 'year', 'month', 'area', 'provider'])\n",
    "cols = ['id', 'id_loan', 'year', 'month', 'area', 'provider'] + list(cols)\n",
    "df   = df[cols]\n",
    "df.sort_values(by = ['id'], inplace = True, ignore_index = True)"
   ]
  },
  {
   "cell_type": "code",
   "execution_count": null,
   "metadata": {},
   "outputs": [],
   "source": [
    "df_mp_09_1 = pd.read_csv('df_mp_09_1.csv')\n",
    "df_mp_09_2 = pd.read_csv('df_mp_09_2.csv')\n",
    "df_mp_09_3 = pd.read_csv('df_mp_09_3.csv')\n",
    "df_mp_09_4 = pd.read_csv('df_mp_09_4.csv')\n",
    "df_mp_10_1 = pd.read_csv('df_mp_10_1.csv')\n",
    "df_mp_10_2 = pd.read_csv('df_mp_10_2.csv')\n",
    "df_mp_10_3 = pd.read_csv('df_mp_10_3.csv')\n",
    "df_mp_10_4 = pd.read_csv('df_mp_10_4.csv')\n",
    "df_mp      = pd.concat([df_mp_09_1, df_mp_09_2, df_mp_09_3, df_mp_09_4, df_mp_10_1, df_mp_10_2, df_mp_10_3, df_mp_10_4])\n",
    "df_mp      = df_mp[df_mp['id_loan'].isin(list(df['id_loan']))]\n",
    "df_mp      = df_mp[df_mp['loan_age'] < 60]\n",
    "df_mp.drop_duplicates(subset = ['id_loan', 'loan_age'], keep = 'first', inplace = True)"
   ]
  },
  {
   "cell_type": "code",
   "execution_count": null,
   "metadata": {},
   "outputs": [],
   "source": [
    "df_mp['delq_sts'] = df_mp['delq_sts'].where(df_mp['delq_sts'] == '0', '1')\n",
    "df_mp['delq_sts'] = df_mp['delq_sts'].astype(int)\n",
    "df_mp.rename(columns = {'delq_sts':'if_delq_sts'}, inplace = True)"
   ]
  },
  {
   "cell_type": "code",
   "execution_count": null,
   "metadata": {},
   "outputs": [],
   "source": [
    "l1 = []\n",
    "\n",
    "for i in range(0, 60):\n",
    "    l2 = list(set(df_mp['id_loan'].unique()) - set(df_mp[df_mp['loan_age'] == i]['id_loan'].unique()))\n",
    "    l1 = list(set(l1 + l2))\n",
    "\n",
    "l3 = list(set(df_mp['svcg_cycle'].unique()).difference(set([200902, 200903, 200904, 200905, 200906, 200907, 200908,\n",
    "                                                            200909, 200910, 200911, 200912, 201001, 201002, 201003,\n",
    "                                                            201004, 201005, 201006, 201007, 201008, 201009, 201010,\n",
    "                                                            201011, 201012, 201101, 201102, 201103, 201104, 201105,\n",
    "                                                            201106, 201107, 201108, 201109, 201110, 201111, 201112,\n",
    "                                                            201201, 201202, 201203, 201204, 201205, 201206, 201207,\n",
    "                                                            201208, 201209, 201210, 201211, 201212, 201301, 201302,\n",
    "                                                            201303, 201304, 201305, 201306, 201307, 201308, 201309,\n",
    "                                                            201310, 201311, 201312, 201401, 201402, 201403, 201404,\n",
    "                                                            201405, 201406, 201407, 201408, 201409, 201410, 201411,\n",
    "                                                            201412, 201501, 201502, 201503, 201504, 201505, 201506,\n",
    "                                                            201507, 201508, 201509, 201510, 201511, 201512])))\n",
    "l4 = list(df_mp[df_mp['svcg_cycle'].isin(l3)]['id_loan'].unique())\n",
    "ll = list(set(l1 + l4))\n",
    "df_mp = df_mp[~df_mp['id_loan'].isin(ll)]"
   ]
  },
  {
   "cell_type": "code",
   "execution_count": null,
   "metadata": {},
   "outputs": [],
   "source": [
    "df_mp['year']  = df_mp['svcg_cycle'].astype(str).apply(lambda x: x[0:4]).astype(int)\n",
    "df_mp['month'] = df_mp['svcg_cycle'].astype(str).apply(lambda x: x[4:6]).astype(int)\n",
    "df_mp = df_mp[df_mp['svcg_cycle'].isin([201201, 201202, 201203, 201204, 201205, 201206,\n",
    "                                        201207, 201208, 201209, 201210, 201211, 201212,\n",
    "                                        201301, 201302, 201303, 201304, 201305, 201306,\n",
    "                                        201307, 201308, 201309, 201310, 201311, 201312])]\n",
    "df_mp['counter'] = (df_mp['year'] - 2012) * 12 + df_mp['month']\n",
    "df_mp.reset_index(drop = True, inplace = True)\n",
    "df_mp.to_csv('df_mp_tot.csv', index = False)"
   ]
  },
  {
   "cell_type": "code",
   "execution_count": null,
   "metadata": {},
   "outputs": [],
   "source": [
    "df = df[df['id_loan'].isin(list(df_mp['id_loan'].unique()))]\n",
    "df.reset_index(drop = True, inplace = True)\n",
    "df.to_csv('df_orig_tot.csv', index = False)"
   ]
  },
  {
   "cell_type": "code",
   "execution_count": null,
   "metadata": {},
   "outputs": [],
   "source": [
    "df_tr_new = df_train\n",
    "df_tr_new.sort_values(by = ['id'], inplace = True, ignore_index = True)\n",
    "df_tr_temp_1 = df_tr_new.loc[:, df_tr_new.columns.isin(['id', 'id_loan', 'year', 'month', 'area', 'provider', 'svcg_cycle',\n",
    "                                                        'default', 'd_timer'])]\n",
    "df_tr_temp_2 = df_tr_new.loc[:, ~df_tr_new.columns.isin(['id', 'id_loan', 'year', 'month', 'area', 'provider', 'svcg_cycle',\n",
    "                                                         'default', 'd_timer'])]\n",
    "df_tr_temp_2_sc = pd.DataFrame(sc.fit_transform(df_tr_temp_2), columns = df_tr_temp_2.columns)\n",
    "df_tr_t = pd.concat([df_tr_temp_1, df_tr_temp_2_sc], axis = 1)\n",
    "df_tr_t = (df_tr_t[['id', 'id_loan', 'year', 'month', 'area', 'provider'] + list(df_tr_temp_2_sc.columns) +\n",
    "                   ['svcg_cycle', 'default', 'd_timer']])\n",
    "df_tr_t.to_csv('df_orig_tr_sc.csv', index = False)"
   ]
  },
  {
   "cell_type": "code",
   "execution_count": null,
   "metadata": {},
   "outputs": [],
   "source": [
    "df_te_new = df_test\n",
    "df_te_new.sort_values(by = ['id'], inplace = True, ignore_index = True)\n",
    "df_te_temp_1 = df_te_new.loc[:, df_te_new.columns.isin(['id', 'id_loan', 'year', 'month', 'area', 'provider', 'svcg_cycle',\n",
    "                                                        'default', 'd_timer'])]\n",
    "df_te_temp_2 = df_te_new.loc[:, ~df_te_new.columns.isin(['id', 'id_loan', 'year', 'month', 'area', 'provider', 'svcg_cycle',\n",
    "                                                         'default', 'd_timer'])]\n",
    "df_te_temp_2_sc = pd.DataFrame(sc.transform(df_te_temp_2), columns = df_te_temp_2.columns)\n",
    "df_te_t = pd.concat([df_te_temp_1, df_te_temp_2_sc], axis = 1)\n",
    "df_te_t = (df_te_t[['id', 'id_loan', 'year', 'month', 'area', 'provider'] + list(df_te_temp_2_sc.columns) +\n",
    "                   ['svcg_cycle', 'default', 'd_timer']])\n",
    "df_te_t.to_csv('df_orig_te_sc.csv', index = False)"
   ]
  },
  {
   "cell_type": "code",
   "execution_count": null,
   "metadata": {},
   "outputs": [],
   "source": [
    "df_tr_mp_new = df_mp[df_mp['id_loan'].isin(list(df_tr_t['id_loan'].unique()))]\n",
    "df_tr_mp_new.reset_index(drop = True, inplace = True)\n",
    "df_tr_mp_temp_1 = df_tr_mp_new.loc[:, df_tr_mp_new.columns.isin(['id_loan', 'year', 'month', 'svcg_cycle', 'loan_age',\n",
    "                                                                 'counter'])]\n",
    "df_tr_mp_temp_2 = df_tr_mp_new.loc[:, ~df_tr_mp_new.columns.isin(['id_loan', 'year', 'month', 'svcg_cycle', 'loan_age',\n",
    "                                                                  'counter'])]\n",
    "df_tr_mp_temp_2_sc = pd.DataFrame(sc.fit_transform(df_tr_mp_temp_2), columns = df_tr_mp_temp_2.columns)\n",
    "df_tr_mp_t = pd.concat([df_tr_mp_temp_1, df_tr_mp_temp_2_sc], axis = 1)\n",
    "df_tr_mp_t.to_csv('df_mp_tr_sc.csv', index = False)"
   ]
  },
  {
   "cell_type": "code",
   "execution_count": null,
   "metadata": {},
   "outputs": [],
   "source": [
    "df_te_mp_new = df_mp[df_mp['id_loan'].isin(list(df_te_t['id_loan'].unique()))]\n",
    "df_te_mp_new.reset_index(drop = True, inplace = True)\n",
    "df_te_mp_temp_1 = df_te_mp_new.loc[:, df_te_mp_new.columns.isin(['id_loan', 'year', 'month', 'svcg_cycle', 'loan_age',\n",
    "                                                                 'counter'])]\n",
    "df_te_mp_temp_2 = df_te_mp_new.loc[:, ~df_te_mp_new.columns.isin(['id_loan', 'year', 'month', 'svcg_cycle', 'loan_age',\n",
    "                                                                  'counter'])]\n",
    "df_te_mp_temp_2_sc = pd.DataFrame(sc.transform(df_te_mp_temp_2), columns = df_te_mp_temp_2.columns)\n",
    "df_te_mp_t = pd.concat([df_te_mp_temp_1, df_te_mp_temp_2_sc], axis = 1)\n",
    "df_te_mp_t.to_csv('df_mp_te_sc.csv', index = False)"
   ]
  }
 ],
 "metadata": {
  "kernelspec": {
   "display_name": "Python 3",
   "language": "python",
   "name": "python3"
  },
  "language_info": {
   "codemirror_mode": {
    "name": "ipython",
    "version": 3
   },
   "file_extension": ".py",
   "mimetype": "text/x-python",
   "name": "python",
   "nbconvert_exporter": "python",
   "pygments_lexer": "ipython3",
   "version": "3.7.6"
  }
 },
 "nbformat": 4,
 "nbformat_minor": 4
}
