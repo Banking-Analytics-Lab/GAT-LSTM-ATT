{
 "cells": [
  {
   "cell_type": "code",
   "execution_count": null,
   "metadata": {},
   "outputs": [],
   "source": [
    "import torch\n",
    "\n",
    "def format_pytorch_version(version):\n",
    "    return version.split('+')[0]\n",
    "\n",
    "TORCH_version = torch.__version__\n",
    "TORCH = format_pytorch_version(TORCH_version)\n",
    "\n",
    "def format_cuda_version(version):\n",
    "    return 'cu' + version.replace('.', '')\n",
    "\n",
    "CUDA_version = torch.version.cuda\n",
    "CUDA = format_cuda_version(CUDA_version)\n",
    "\n",
    "!pip install torch-scatter     -f https://pytorch-geometric.com/whl/torch-{TORCH}+{CUDA}.html\n",
    "!pip install torch-sparse      -f https://pytorch-geometric.com/whl/torch-{TORCH}+{CUDA}.html\n",
    "!pip install torch-cluster     -f https://pytorch-geometric.com/whl/torch-{TORCH}+{CUDA}.html\n",
    "!pip install torch-spline-conv -f https://pytorch-geometric.com/whl/torch-{TORCH}+{CUDA}.html\n",
    "!pip install torch-geometric"
   ]
  },
  {
   "cell_type": "code",
   "execution_count": null,
   "metadata": {},
   "outputs": [],
   "source": [
    "pip uninstall networkx"
   ]
  },
  {
   "cell_type": "code",
   "execution_count": null,
   "metadata": {},
   "outputs": [],
   "source": [
    "pip install networkx==2.8.8"
   ]
  },
  {
   "cell_type": "code",
   "execution_count": null,
   "metadata": {},
   "outputs": [],
   "source": [
    "pip install torchmetrics==0.9.3"
   ]
  },
  {
   "cell_type": "markdown",
   "metadata": {},
   "source": [
    "---"
   ]
  },
  {
   "cell_type": "code",
   "execution_count": null,
   "metadata": {
    "id": "AGTkab78nURd"
   },
   "outputs": [],
   "source": [
    "import time as tm\n",
    "import numpy as np\n",
    "import pandas as pd\n",
    "import networkx as nx\n",
    "import random\n",
    "import torch\n",
    "import torch.nn.functional as F\n",
    "from tqdm import tqdm\n",
    "from torch import nn\n",
    "from torchmetrics import AUROC, F1Score\n",
    "from torch_geometric.nn import GATConv\n",
    "from torch_geometric.utils.convert import from_networkx"
   ]
  },
  {
   "cell_type": "code",
   "execution_count": null,
   "metadata": {
    "colab": {
     "base_uri": "https://localhost:8080/"
    },
    "id": "cCkel5ZrnURf",
    "outputId": "2d465708-a7f3-4040-bfe4-227755852d61"
   },
   "outputs": [],
   "source": [
    "df      = pd.read_csv('y_train.csv')\n",
    "y_train = torch.tensor(df['default']).type(torch.FloatTensor)"
   ]
  },
  {
   "cell_type": "code",
   "execution_count": null,
   "metadata": {
    "id": "cvbtuFOYnURg"
   },
   "outputs": [],
   "source": [
    "G      = nx.read_gpickle(\"G_area.gpickle\")\n",
    "rs     = random.sample(list(G.nodes), int(0.5 * len(list(G.nodes))))\n",
    "G.remove_edges_from(list(G.edges(rs)))\n",
    "data   = from_networkx(G, group_node_attrs = all)"
   ]
  },
  {
   "cell_type": "code",
   "execution_count": null,
   "metadata": {
    "id": "DwaiXotDnURj"
   },
   "outputs": [],
   "source": [
    "device = torch.device(\"cuda:0\" if torch.cuda.is_available() else \"cpu\")"
   ]
  },
  {
   "cell_type": "code",
   "execution_count": null,
   "metadata": {
    "id": "7fdSUci1L7bo"
   },
   "outputs": [],
   "source": [
    "class GAT_GRU(torch.nn.Module):\n",
    "\n",
    "    def __init__(self, in_channels:int, out_channels:int, heads:int, concat:bool = False):\n",
    "        super(GAT_GRU, self).__init__()\n",
    "        self.in_channels = in_channels\n",
    "        self.out_channels = out_channels\n",
    "        self.heads = heads\n",
    "        self.concat = concat\n",
    "        self._create_parameters_and_layers()\n",
    "\n",
    "    def _create_update_gate_parameters_and_layers(self):\n",
    "        self.conv_z = GATConv(in_channels = self.in_channels, out_channels = self.out_channels, heads = self.heads,\n",
    "                              concat = self.concat)\n",
    "        self.linear_z = torch.nn.Linear(2 * self.out_channels, self.out_channels)\n",
    "\n",
    "    def _create_reset_gate_parameters_and_layers(self):\n",
    "        self.conv_r = GATConv(in_channels = self.in_channels, out_channels = self.out_channels, heads = self.heads,\n",
    "                              concat = self.concat)\n",
    "        self.linear_r = torch.nn.Linear(2 * self.out_channels, self.out_channels)\n",
    "\n",
    "    def _create_candidate_state_parameters_and_layers(self):\n",
    "        self.conv_h = GATConv(in_channels = self.in_channels, out_channels = self.out_channels, heads = self.heads,\n",
    "                              concat = self.concat)\n",
    "        self.linear_h = torch.nn.Linear(2 * self.out_channels, self.out_channels)\n",
    "\n",
    "    def _create_parameters_and_layers(self):\n",
    "        self._create_update_gate_parameters_and_layers()\n",
    "        self._create_reset_gate_parameters_and_layers()\n",
    "        self._create_candidate_state_parameters_and_layers()\n",
    "\n",
    "    def _set_hidden_state(self, X, H):\n",
    "        if H is None:\n",
    "            H = torch.zeros(X.shape[0], self.out_channels).to(X.device)\n",
    "        return H\n",
    "\n",
    "    def _calculate_update_gate(self, X, edge_index, H):\n",
    "        Z = torch.cat([self.conv_z(X, edge_index), H], axis = 1)\n",
    "        Z = self.linear_z(Z)\n",
    "        Z = torch.sigmoid(Z)\n",
    "        return Z\n",
    "\n",
    "    def _calculate_reset_gate(self, X, edge_index, H):\n",
    "        R = torch.cat([self.conv_r(X, edge_index), H], axis = 1)\n",
    "        R = self.linear_r(R)\n",
    "        R = torch.sigmoid(R)\n",
    "        return R\n",
    "\n",
    "    def _calculate_candidate_state(self, X, edge_index, H, R):\n",
    "        H_tilde = torch.cat([self.conv_h(X, edge_index), H * R], axis = 1)\n",
    "        H_tilde = self.linear_h(H_tilde)\n",
    "        H_tilde = torch.tanh(H_tilde)\n",
    "        return H_tilde\n",
    "\n",
    "    def _calculate_hidden_state(self, Z, H, H_tilde):\n",
    "        H = Z * H + (1 - Z) * H_tilde\n",
    "        return H\n",
    "\n",
    "    def forward(self, X:torch.FloatTensor, edge_index:torch.LongTensor, H:torch.FloatTensor = None) -> torch.FloatTensor:\n",
    "        H = self._set_hidden_state(X, H)\n",
    "        Z = self._calculate_update_gate(X, edge_index, H)\n",
    "        R = self._calculate_reset_gate(X, edge_index, H)\n",
    "        H_tilde = self._calculate_candidate_state(X, edge_index, H, R)\n",
    "        H = self._calculate_hidden_state(Z, H, H_tilde)\n",
    "        return H"
   ]
  },
  {
   "cell_type": "code",
   "execution_count": null,
   "metadata": {},
   "outputs": [],
   "source": [
    "class GAT_GRU_NEW(torch.nn.Module):\n",
    "\n",
    "    def __init__(self, in_channels:int, out_channels:int, heads:int, periods:int, concat:bool = False):\n",
    "        super(GAT_GRU_NEW, self).__init__()\n",
    "        self.in_channels = in_channels\n",
    "        self.out_channels = out_channels\n",
    "        self.heads = heads\n",
    "        self.periods = periods\n",
    "        self.concat = concat\n",
    "        self._setup_layers()\n",
    "\n",
    "    def _setup_layers(self):\n",
    "        self._base_gat_gru = GAT_GRU(in_channels = self.in_channels, out_channels = self.out_channels,\n",
    "                                     heads = self.heads, concat = self.concat)\n",
    "\n",
    "    def forward(self, X1:torch.FloatTensor, edge_index1:torch.LongTensor,\n",
    "                      X2:torch.FloatTensor, edge_index2:torch.LongTensor,\n",
    "                      X3:torch.FloatTensor, edge_index3:torch.LongTensor,\n",
    "                      X4:torch.FloatTensor, edge_index4:torch.LongTensor,\n",
    "                      X5:torch.FloatTensor, edge_index5:torch.LongTensor,\n",
    "                      X6:torch.FloatTensor, edge_index6:torch.LongTensor,\n",
    "                      H:torch.FloatTensor = None) -> torch.FloatTensor:\n",
    "\n",
    "        for period in range(self.periods):\n",
    "            if period == 0:\n",
    "                X = X1\n",
    "                edge_index = edge_index1\n",
    "                H = self._base_gat_gru(X, edge_index, H)\n",
    "            elif period == 1:\n",
    "                X = X2\n",
    "                edge_index = edge_index2\n",
    "                H = self._base_gat_gru(X, edge_index, H)\n",
    "            elif period == 2:\n",
    "                X = X3\n",
    "                edge_index = edge_index3\n",
    "                H = self._base_gat_gru(X, edge_index, H)\n",
    "            elif period == 3:\n",
    "                X = X4\n",
    "                edge_index = edge_index4\n",
    "                H = self._base_gat_gru(X, edge_index, H)\n",
    "            elif period == 4:\n",
    "                X = X5\n",
    "                edge_index = edge_index5\n",
    "                H = self._base_gat_gru(X, edge_index, H)\n",
    "            elif period == 5:\n",
    "                X = X6\n",
    "                edge_index = edge_index6\n",
    "                H = self._base_gat_gru(X, edge_index, H)\n",
    "        return H"
   ]
  },
  {
   "cell_type": "code",
   "execution_count": null,
   "metadata": {},
   "outputs": [],
   "source": [
    "class RecurrentGAT(torch.nn.Module):\n",
    "    def __init__(self, node_features, periods):\n",
    "        super(RecurrentGAT, self).__init__()\n",
    "        self.recurrent = GAT_GRU_NEW(node_features, --, --, periods)\n",
    "        self.linear_1 = torch.nn.Linear(--, --)\n",
    "        self.dropout = torch.nn.Dropout(p = --)\n",
    "        self.linear_2 = torch.nn.Linear(--, --)\n",
    "\n",
    "    def forward(self, x1, edge_index1,\n",
    "                      x2, edge_index2,\n",
    "                      x3, edge_index3,\n",
    "                      x4, edge_index4,\n",
    "                      x5, edge_index5,\n",
    "                      x6, edge_index6):\n",
    "        h = self.recurrent(x1, edge_index1,\n",
    "                           x2, edge_index2,\n",
    "                           x3, edge_index3,\n",
    "                           x4, edge_index4,\n",
    "                           x5, edge_index5,\n",
    "                           x6, edge_index6)\n",
    "        h = self.linear_1(h)\n",
    "        h = F.relu(h)\n",
    "        h = self.dropout(h)\n",
    "        h = self.linear_2(h)\n",
    "        return torch.sigmoid(h)\n",
    "\n",
    "model = RecurrentGAT(node_features = 16, periods = 6).to(device)\n",
    "criterion = nn.BCELoss()\n",
    "optimizer = torch.optim.Adam(model.parameters(), lr = 0.001)"
   ]
  },
  {
   "cell_type": "code",
   "execution_count": null,
   "metadata": {
    "colab": {
     "base_uri": "https://localhost:8080/"
    },
    "id": "rXzJoGJPnURk",
    "outputId": "6c75e2a1-d8b6-4396-cf8e-cc508a6a1255"
   },
   "outputs": [],
   "source": [
    "st = tm.time()\n",
    "\n",
    "model.train()\n",
    "for epoch in tqdm(range(--)):\n",
    "    for w in range(13):\n",
    "        for s in range(6):\n",
    "            exec(\"x\" + str(s + 1) + \" = \" + \"data\" + str(w + s + 1) + \".x.to(device)\")\n",
    "            exec(\"edge_index\" + str(s + 1) + \" = \" + \"data\" + str(w + s + 1) + \".edge_index.to(device)\")\n",
    "        y_targ = y_train.to(device)\n",
    "        y_pred = model(x1, edge_index1,\n",
    "                       x2, edge_index2,\n",
    "                       x3, edge_index3,\n",
    "                       x4, edge_index4,\n",
    "                       x5, edge_index5,\n",
    "                       x6, edge_index6)\n",
    "        cost = criterion(y_pred, y_targ.reshape(-1, 1))\n",
    "        cost.backward()\n",
    "        optimizer.step()\n",
    "        optimizer.zero_grad()\n",
    "    if epoch % 100 == 0:\n",
    "        print('cost = ', cost.item())\n",
    "        print('accuracy = ', (torch.round(y_pred) == y_targ.reshape(-1, 1)).sum().item() / len(y_targ))\n",
    "\n",
    "et = tm.time()\n",
    "elapsed_time = et - st\n",
    "print('\\ntraining time:', elapsed_time, 'seconds')"
   ]
  },
  {
   "cell_type": "code",
   "execution_count": null,
   "metadata": {
    "id": "EE7ngdF6nURk"
   },
   "outputs": [],
   "source": [
    "df_test = pd.read_csv('y_test.csv')\n",
    "y_test  = torch.tensor(df_test['default']).type(torch.FloatTensor)"
   ]
  },
  {
   "cell_type": "code",
   "execution_count": null,
   "metadata": {
    "id": "Zad1tZEKnURl"
   },
   "outputs": [],
   "source": [
    "G_test      = nx.read_gpickle(\"G_area_test.gpickle\")\n",
    "rs          = random.sample(list(G_test.nodes), int(0.5 * len(list(G_test.nodes))))\n",
    "G_test.remove_edges_from(list(G_test.edges(rs)))\n",
    "data_test   = from_networkx(G_test, group_node_attrs = all)"
   ]
  },
  {
   "cell_type": "code",
   "execution_count": null,
   "metadata": {},
   "outputs": [],
   "source": [
    "for s in range(6):\n",
    "    exec(\"x\" + str(s + 1) + \"_test = \" + \"data\" + str(s + 19) + \"_test.x.to(device)\")\n",
    "    exec(\"edge_index\" + str(s + 1) + \"_test = \" + \"data\" + str(s + 19) + \"_test.edge_index.to(device)\")\n",
    "\n",
    "y_targ_test = y_test"
   ]
  },
  {
   "cell_type": "code",
   "execution_count": null,
   "metadata": {},
   "outputs": [],
   "source": [
    "model.eval()\n",
    "auroc = AUROC(pos_label = 1)\n",
    "f1score = F1Score(num_classes = 2, multiclass = True)\n",
    "with torch.no_grad():\n",
    "    preds = model(x1_test, edge_index1_test,\n",
    "                  x2_test, edge_index2_test,\n",
    "                  x3_test, edge_index3_test,\n",
    "                  x4_test, edge_index4_test,\n",
    "                  x5_test, edge_index5_test,\n",
    "                  x6_test, edge_index6_test).cpu()\n",
    "    target = y_targ_test.reshape(-1, 1).type(torch.int64)\n",
    "    auroc_test = auroc(preds, target).item()\n",
    "    f1score_test = f1score(preds, target).item()\n",
    "    error_test = criterion(preds, y_targ_test.reshape(-1, 1)).item()"
   ]
  },
  {
   "cell_type": "code",
   "execution_count": null,
   "metadata": {},
   "outputs": [],
   "source": [
    "print('AUC = ', auroc_test)\n",
    "print('F1-score = ', f1score_test)\n",
    "print('Error = ', error_test)"
   ]
  }
 ],
 "metadata": {
  "accelerator": "GPU",
  "colab": {
   "machine_shape": "hm",
   "name": "GCN_GRU.ipynb",
   "provenance": []
  },
  "gpuClass": "standard",
  "kernelspec": {
   "display_name": "Python 3",
   "language": "python",
   "name": "python3"
  },
  "language_info": {
   "codemirror_mode": {
    "name": "ipython",
    "version": 3
   },
   "file_extension": ".py",
   "mimetype": "text/x-python",
   "name": "python",
   "nbconvert_exporter": "python",
   "pygments_lexer": "ipython3",
   "version": "3.7.6"
  }
 },
 "nbformat": 4,
 "nbformat_minor": 1
}
