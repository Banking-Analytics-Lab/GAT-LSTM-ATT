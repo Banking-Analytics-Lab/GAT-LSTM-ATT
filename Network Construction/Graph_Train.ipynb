{
 "cells": [
  {
   "cell_type": "code",
   "execution_count": null,
   "metadata": {},
   "outputs": [],
   "source": [
    "import warnings\n",
    "import pandas as pd\n",
    "import networkx as nx\n",
    "from tqdm import tqdm\n",
    "warnings.filterwarnings(\"ignore\")"
   ]
  },
  {
   "cell_type": "markdown",
   "metadata": {},
   "source": [
    "***"
   ]
  },
  {
   "cell_type": "markdown",
   "metadata": {},
   "source": [
    "# Area"
   ]
  },
  {
   "cell_type": "code",
   "execution_count": null,
   "metadata": {},
   "outputs": [],
   "source": [
    "df_tr = pd.read_csv('df_orig_tr_sc.csv')\n",
    "el = []\n",
    "df_temp = df_tr[df_tr['d_timer'] >= 53]\n",
    "df_temp.reset_index(drop = True, inplace = True)\n",
    "\n",
    "for i in tqdm(range(len(df_temp))):\n",
    "    for j in range(len(df_temp)):\n",
    "        if df_temp.loc[i, 'area'] == df_temp.loc[j, 'area']:\n",
    "            el.append((df_temp.loc[i, 'id'], df_temp.loc[j, 'id']))\n",
    "\n",
    "el_df = pd.DataFrame(el)\n",
    "index = el_df[el_df.loc[:, 0] == el_df.loc[:, 1]].index\n",
    "el_df.drop(index, inplace = True)\n",
    "el_df.reset_index(drop = True, inplace = True)\n",
    "el_df.rename(columns = {0:'source', 1:'target'}, inplace = True)\n",
    "el_df.to_csv('area.csv', index = False)"
   ]
  },
  {
   "cell_type": "code",
   "execution_count": null,
   "metadata": {},
   "outputs": [],
   "source": [
    "df_orig = pd.read_csv('df_orig_tr_sc.csv')\n",
    "df_mp   = pd.read_csv('df_mp_tr_sc.csv')\n",
    "area    = pd.read_csv('area.csv')"
   ]
  },
  {
   "cell_type": "code",
   "execution_count": null,
   "metadata": {},
   "outputs": [],
   "source": [
    "G_area = nx.from_pandas_edgelist(area, source = \"source\", target = \"target\")\n",
    "G_area.add_nodes_from(list(set(df_orig[df_orig['d_timer'] >= 53]['id'].unique()) - set(area['source'].unique())))\n",
    "\n",
    "for i in G_area.nodes():\n",
    "    id_loan = df_orig[df_orig['id'] == i]['id_loan'].tolist()[0]\n",
    "    G_area.nodes[i]['fico'] = df_orig.fico[df_orig['id'] == i].tolist()[0]\n",
    "    G_area.nodes[i]['if_fthb'] = df_orig.if_fthb[df_orig['id'] == i].tolist()[0]\n",
    "    G_area.nodes[i]['mi_pct'] = df_orig.mi_pct[df_orig['id'] == i].tolist()[0]\n",
    "    G_area.nodes[i]['cnt_units'] = df_orig.cnt_units[df_orig['id'] == i].tolist()[0]\n",
    "    G_area.nodes[i]['if_prim_res'] = df_orig.if_prim_res[df_orig['id'] == i].tolist()[0]\n",
    "    G_area.nodes[i]['dti'] = df_orig.dti[df_orig['id'] == i].tolist()[0]\n",
    "    G_area.nodes[i]['ltv'] = df_orig.ltv[df_orig['id'] == i].tolist()[0]\n",
    "    G_area.nodes[i]['if_corr'] = df_orig.if_corr[df_orig['id'] == i].tolist()[0]\n",
    "    G_area.nodes[i]['if_sf'] = df_orig.if_sf[df_orig['id'] == i].tolist()[0]\n",
    "    G_area.nodes[i]['if_purc'] = df_orig.if_purc[df_orig['id'] == i].tolist()[0]\n",
    "    G_area.nodes[i]['cnt_borr'] = df_orig.cnt_borr[df_orig['id'] == i].tolist()[0]\n",
    "    G_area.nodes[i]['if_sc'] = df_orig.if_sc[df_orig['id'] == i].tolist()[0]\n",
    "    G_area.nodes[i]['current_upb'] = (df_mp.current_upb[(df_mp['id_loan'] == id_loan) &\n",
    "                                                        (df_mp['counter'] == s)].tolist()[0])\n",
    "    G_area.nodes[i]['if_delq_sts'] = (df_mp.if_delq_sts[(df_mp['id_loan'] == id_loan) &\n",
    "                                                        (df_mp['counter'] == s)].tolist()[0])\n",
    "    G_area.nodes[i]['mths_remng'] = (df_mp.mths_remng[(df_mp['id_loan'] == id_loan) &\n",
    "                                                      (df_mp['counter'] == s)].tolist()[0])\n",
    "    G_area.nodes[i]['current_int_rt'] = (df_mp.current_int_rt[(df_mp['id_loan'] == id_loan) &\n",
    "                                                              (df_mp['counter'] == s)].tolist()[0])\n",
    "\n",
    "H = nx.Graph()\n",
    "H.add_nodes_from(sorted(G_area.nodes(data = True)))\n",
    "H.add_edges_from(G_area.edges(data = True))\n",
    "nx.write_gpickle(H, 'G_area' + '.gpickle')"
   ]
  },
  {
   "cell_type": "markdown",
   "metadata": {},
   "source": [
    "# Comp"
   ]
  },
  {
   "cell_type": "code",
   "execution_count": null,
   "metadata": {},
   "outputs": [],
   "source": [
    "df_tr = pd.read_csv('df_orig_tr_sc.csv')\n",
    "el = []\n",
    "df_temp = df_tr[df_tr['d_timer'] >= 53]\n",
    "df_temp.reset_index(drop = True, inplace = True)\n",
    "\n",
    "for i in tqdm(range(len(df_temp))):\n",
    "    for j in range(len(df_temp)):\n",
    "        if df_temp.loc[i, 'provider'] == df_temp.loc[j, 'provider']:\n",
    "            el.append((df_temp.loc[i, 'id'], df_temp.loc[j, 'id']))\n",
    "\n",
    "el_df = pd.DataFrame(el)\n",
    "index = el_df[el_df.loc[:, 0] == el_df.loc[:, 1]].index\n",
    "el_df.drop(index, inplace = True)\n",
    "el_df.reset_index(drop = True, inplace = True)\n",
    "el_df.rename(columns = {0:'source', 1:'target'}, inplace = True)\n",
    "el_df.to_csv('comp.csv', index = False)"
   ]
  },
  {
   "cell_type": "code",
   "execution_count": null,
   "metadata": {},
   "outputs": [],
   "source": [
    "df_orig = pd.read_csv('df_orig_tr_sc.csv')\n",
    "df_mp   = pd.read_csv('df_mp_tr_sc.csv')\n",
    "comp    = pd.read_csv('comp.csv')"
   ]
  },
  {
   "cell_type": "code",
   "execution_count": null,
   "metadata": {},
   "outputs": [],
   "source": [
    "G_comp = nx.from_pandas_edgelist(comp, source = \"source\", target = \"target\")\n",
    "G_comp.add_nodes_from(list(set(df_orig[df_orig['d_timer'] >= 53]['id'].unique()) - set(comp['source'].unique())))\n",
    "\n",
    "for i in G_comp.nodes():\n",
    "    id_loan = df_orig[df_orig['id'] == i]['id_loan'].tolist()[0]\n",
    "    G_comp.nodes[i]['fico'] = df_orig.fico[df_orig['id'] == i].tolist()[0]\n",
    "    G_comp.nodes[i]['if_fthb'] = df_orig.if_fthb[df_orig['id'] == i].tolist()[0]\n",
    "    G_comp.nodes[i]['mi_pct'] = df_orig.mi_pct[df_orig['id'] == i].tolist()[0]\n",
    "    G_comp.nodes[i]['cnt_units'] = df_orig.cnt_units[df_orig['id'] == i].tolist()[0]\n",
    "    G_comp.nodes[i]['if_prim_res'] = df_orig.if_prim_res[df_orig['id'] == i].tolist()[0]\n",
    "    G_comp.nodes[i]['dti'] = df_orig.dti[df_orig['id'] == i].tolist()[0]\n",
    "    G_comp.nodes[i]['ltv'] = df_orig.ltv[df_orig['id'] == i].tolist()[0]\n",
    "    G_comp.nodes[i]['if_corr'] = df_orig.if_corr[df_orig['id'] == i].tolist()[0]\n",
    "    G_comp.nodes[i]['if_sf'] = df_orig.if_sf[df_orig['id'] == i].tolist()[0]\n",
    "    G_comp.nodes[i]['if_purc'] = df_orig.if_purc[df_orig['id'] == i].tolist()[0]\n",
    "    G_comp.nodes[i]['cnt_borr'] = df_orig.cnt_borr[df_orig['id'] == i].tolist()[0]\n",
    "    G_comp.nodes[i]['if_sc'] = df_orig.if_sc[df_orig['id'] == i].tolist()[0]\n",
    "    G_comp.nodes[i]['current_upb'] = (df_mp.current_upb[(df_mp['id_loan'] == id_loan) &\n",
    "                                                        (df_mp['counter'] == s)].tolist()[0])\n",
    "    G_comp.nodes[i]['if_delq_sts'] = (df_mp.if_delq_sts[(df_mp['id_loan'] == id_loan) &\n",
    "                                                        (df_mp['counter'] == s)].tolist()[0])\n",
    "    G_comp.nodes[i]['mths_remng'] = (df_mp.mths_remng[(df_mp['id_loan'] == id_loan) &\n",
    "                                                      (df_mp['counter'] == s)].tolist()[0])\n",
    "    G_comp.nodes[i]['current_int_rt'] = (df_mp.current_int_rt[(df_mp['id_loan'] == id_loan) &\n",
    "                                                              (df_mp['counter'] == s)].tolist()[0])\n",
    "\n",
    "H = nx.Graph()\n",
    "H.add_nodes_from(sorted(G_comp.nodes(data = True)))\n",
    "H.add_edges_from(G_comp.edges(data = True))\n",
    "nx.write_gpickle(H, 'G_comp' + '.gpickle')"
   ]
  },
  {
   "cell_type": "markdown",
   "metadata": {},
   "source": [
    "# Area-Comp"
   ]
  },
  {
   "cell_type": "code",
   "execution_count": null,
   "metadata": {},
   "outputs": [],
   "source": [
    "df_orig = pd.read_csv('df_orig_tr_sc.csv')\n",
    "df_mp   = pd.read_csv('df_mp_tr_sc.csv')\n",
    "area    = pd.read_csv('area.csv')\n",
    "comp    = pd.read_csv('comp.csv')"
   ]
  },
  {
   "cell_type": "code",
   "execution_count": null,
   "metadata": {},
   "outputs": [],
   "source": [
    "df   = df_orig[df_orig['d_timer'] >= 53]\n",
    "uni  = set(df['id'].unique())\n",
    "shft = max(uni) - min(uni) + 1\n",
    "df_2 = df.copy()\n",
    "df_2['id'] = df_2['id'] + shft\n",
    "df_new = pd.concat([df, df_2]).reset_index(drop = True)\n",
    "df_new.to_csv('df_orig_tr_sc_double.csv', index = False)"
   ]
  },
  {
   "cell_type": "code",
   "execution_count": null,
   "metadata": {},
   "outputs": [],
   "source": [
    "row_inter_1 = [[i, i + shft] for i in uni]\n",
    "el_inter_1 = pd.DataFrame(row_inter_1, columns = [\"source\", \"target\"])\n",
    "row_inter_2 = [[i + shft, i] for i in uni]\n",
    "el_inter_2 = pd.DataFrame(row_inter_2, columns = [\"source\", \"target\"])\n",
    "el_inter = pd.concat([el_inter_1, el_inter_2]).reset_index(drop = True)\n",
    "areacomp = pd.concat([area, comp + shft, el_inter]).reset_index(drop = True)"
   ]
  },
  {
   "cell_type": "code",
   "execution_count": null,
   "metadata": {},
   "outputs": [],
   "source": [
    "G_areacomp = nx.from_pandas_edgelist(areacomp, source = \"source\", target = \"target\")\n",
    "\n",
    "for i in G_areacomp.nodes():\n",
    "    id_loan = df_new[df_new['id'] == i]['id_loan'].tolist()[0]\n",
    "    G_areacomp.nodes[i]['fico'] = df_new.fico[df_new['id'] == i].tolist()[0]\n",
    "    G_areacomp.nodes[i]['if_fthb'] = df_new.if_fthb[df_new['id'] == i].tolist()[0]\n",
    "    G_areacomp.nodes[i]['mi_pct'] = df_new.mi_pct[df_new['id'] == i].tolist()[0]\n",
    "    G_areacomp.nodes[i]['cnt_units'] = df_new.cnt_units[df_new['id'] == i].tolist()[0]\n",
    "    G_areacomp.nodes[i]['if_prim_res'] = df_new.if_prim_res[df_new['id'] == i].tolist()[0]\n",
    "    G_areacomp.nodes[i]['dti'] = df_new.dti[df_new['id'] == i].tolist()[0]\n",
    "    G_areacomp.nodes[i]['ltv'] = df_new.ltv[df_new['id'] == i].tolist()[0]\n",
    "    G_areacomp.nodes[i]['if_corr'] = df_new.if_corr[df_new['id'] == i].tolist()[0]\n",
    "    G_areacomp.nodes[i]['if_sf'] = df_new.if_sf[df_new['id'] == i].tolist()[0]\n",
    "    G_areacomp.nodes[i]['if_purc'] = df_new.if_purc[df_new['id'] == i].tolist()[0]\n",
    "    G_areacomp.nodes[i]['cnt_borr'] = df_new.cnt_borr[df_new['id'] == i].tolist()[0]\n",
    "    G_areacomp.nodes[i]['if_sc'] = df_new.if_sc[df_new['id'] == i].tolist()[0]\n",
    "    G_areacomp.nodes[i]['current_upb'] = (df_mp.current_upb[(df_mp['id_loan'] == id_loan) &\n",
    "                                                            (df_mp['counter'] == s)].tolist()[0])\n",
    "    G_areacomp.nodes[i]['if_delq_sts'] = (df_mp.if_delq_sts[(df_mp['id_loan'] == id_loan) &\n",
    "                                                            (df_mp['counter'] == s)].tolist()[0])\n",
    "    G_areacomp.nodes[i]['mths_remng'] = (df_mp.mths_remng[(df_mp['id_loan'] == id_loan) &\n",
    "                                                          (df_mp['counter'] == s)].tolist()[0])\n",
    "    G_areacomp.nodes[i]['current_int_rt'] = (df_mp.current_int_rt[(df_mp['id_loan'] == id_loan) &\n",
    "                                                                  (df_mp['counter'] == s)].tolist()[0])\n",
    "\n",
    "H = nx.Graph()\n",
    "H.add_nodes_from(sorted(G_areacomp.nodes(data = True)))\n",
    "H.add_edges_from(G_areacomp.edges(data = True))\n",
    "nx.write_gpickle(H, 'G_areacomp' + '.gpickle')"
   ]
  },
  {
   "cell_type": "markdown",
   "metadata": {},
   "source": [
    "# Y"
   ]
  },
  {
   "cell_type": "code",
   "execution_count": null,
   "metadata": {},
   "outputs": [],
   "source": [
    "df_orig = pd.read_csv('df_orig_tr_sc.csv')\n",
    "df      = df_orig[df_orig['d_timer'] >= 53].reset_index(drop = True)\n",
    "df['default'].to_csv('y_train.csv', index = False)"
   ]
  }
 ],
 "metadata": {
  "kernelspec": {
   "display_name": "Python 3",
   "language": "python",
   "name": "python3"
  },
  "language_info": {
   "codemirror_mode": {
    "name": "ipython",
    "version": 3
   },
   "file_extension": ".py",
   "mimetype": "text/x-python",
   "name": "python",
   "nbconvert_exporter": "python",
   "pygments_lexer": "ipython3",
   "version": "3.7.6"
  }
 },
 "nbformat": 4,
 "nbformat_minor": 4
}
